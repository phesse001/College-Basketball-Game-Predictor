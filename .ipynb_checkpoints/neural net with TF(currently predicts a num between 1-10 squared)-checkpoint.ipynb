{
 "cells": [
  {
   "cell_type": "code",
   "execution_count": 4,
   "metadata": {},
   "outputs": [
    {
     "ename": "ModuleNotFoundError",
     "evalue": "No module named 'tensorflow'",
     "output_type": "error",
     "traceback": [
      "\u001b[0;31m---------------------------------------------------------------------------\u001b[0m",
      "\u001b[0;31mModuleNotFoundError\u001b[0m                       Traceback (most recent call last)",
      "\u001b[0;32m<ipython-input-4-58172902da52>\u001b[0m in \u001b[0;36m<module>\u001b[0;34m\u001b[0m\n\u001b[1;32m      2\u001b[0m \u001b[0;32mfrom\u001b[0m \u001b[0mrandom\u001b[0m \u001b[0;32mimport\u001b[0m \u001b[0mrandom\u001b[0m\u001b[0;34m\u001b[0m\u001b[0;34m\u001b[0m\u001b[0m\n\u001b[1;32m      3\u001b[0m \u001b[0;32mfrom\u001b[0m \u001b[0msklearn\u001b[0m\u001b[0;34m.\u001b[0m\u001b[0mmodel_selection\u001b[0m \u001b[0;32mimport\u001b[0m \u001b[0mtrain_test_split\u001b[0m\u001b[0;34m\u001b[0m\u001b[0;34m\u001b[0m\u001b[0m\n\u001b[0;32m----> 4\u001b[0;31m \u001b[0;32mimport\u001b[0m \u001b[0mtensorflow\u001b[0m \u001b[0;32mas\u001b[0m \u001b[0mtf\u001b[0m\u001b[0;34m\u001b[0m\u001b[0;34m\u001b[0m\u001b[0m\n\u001b[0m\u001b[1;32m      5\u001b[0m \u001b[0;32mimport\u001b[0m \u001b[0mcsv\u001b[0m\u001b[0;34m\u001b[0m\u001b[0;34m\u001b[0m\u001b[0m\n\u001b[1;32m      6\u001b[0m \u001b[0;34m\u001b[0m\u001b[0m\n",
      "\u001b[0;31mModuleNotFoundError\u001b[0m: No module named 'tensorflow'"
     ]
    }
   ],
   "source": [
    "import numpy as np\n",
    "from random import random\n",
    "from sklearn.model_selection import train_test_split\n",
    "import tensorflow as tf\n",
    "import csv\n",
    "\n",
    "def generate_dataset(test_size):\n",
    "    \n",
    "    #x = np.array([[int(random()*10)] for _ in range(10000)])\n",
    "    #y = np.array([[i[0] ** 2] for i in x])\n",
    "    ######################################## X DATA\n",
    "    #input data with date,index1,homefield1,index2,homefield2\n",
    "\n",
    "    array = []\n",
    "    x = []\n",
    "    with open(\"/home/patrick/CK/march-madness/dataset/2019_teams_games/games.txt\", 'r') as f:\n",
    "        reader = csv.reader(f, delimiter=',')\n",
    "        for arr in reader:\n",
    "            for item in arr:\n",
    "                array.append(item.strip())\n",
    "    i=0\n",
    "    while i < len(array):\n",
    "        word = array[i]\n",
    "        if ' ' in word:\n",
    "            words = word.split(\" \")\n",
    "            array[i] = words[0]\n",
    "            array.insert(i+1, words[1])\n",
    "        i+=1\n",
    "\n",
    "    count = 0\n",
    "    scount = 0\n",
    "    arr = []\n",
    "    for element in array:\n",
    "        if count < 8:\n",
    "            arr.append(element)\n",
    "            count += 1\n",
    "        else:\n",
    "            x.append(arr)\n",
    "            count = 0\n",
    "            arr = []\n",
    "            arr.append(element)\n",
    "            count += 1\n",
    "    for item in x:\n",
    "        item.pop(0)\n",
    "        item.pop(3)\n",
    "        item.pop(5)\n",
    "    \n",
    "    x = np.array(x)\n",
    "######################################## Y DATA\n",
    "    array2 = []\n",
    "    final = []\n",
    "    y = []\n",
    "    with open(\"/home/patrick/CK/march-madness/dataset/2019_teams_games/games.txt\", 'r') as f:\n",
    "        reader = csv.reader(f, delimiter=',')\n",
    "        for arr in reader:\n",
    "            for item in arr:\n",
    "                array2.append(item.strip())\n",
    "    i=0\n",
    "    while i < len(array2):\n",
    "        word = array2[i]\n",
    "        if ' ' in word:\n",
    "            words = word.split(\" \")\n",
    "            array2[i] = words[0]\n",
    "            array2.insert(i+1, words[1])\n",
    "        i+=1\n",
    "\n",
    "    count = 0\n",
    "    scount = 0\n",
    "    arr = []\n",
    "    for element in array:\n",
    "        if count < 8:\n",
    "            arr.append(element)\n",
    "            count += 1\n",
    "        else:\n",
    "            y.append(arr)\n",
    "            count = 0\n",
    "            arr = []\n",
    "            arr.append(element)\n",
    "            count += 1\n",
    "    #if team 1 beats team 2 then we add team 1's id. if tie, winner is home.\n",
    "    for item in y:\n",
    "        if item[4] > item[7]:\n",
    "            tmp = []\n",
    "            tmp.append(item[2])\n",
    "            final.append(tmp)\n",
    "        else:\n",
    "            tmp = []\n",
    "            tmp.append(item[5])\n",
    "            final.append(tmp)\n",
    "    \n",
    "    y = np.array(y)\n",
    "########################################\n",
    "    x_train,x_test,y_train,y_test = train_test_split(x, y, test_size = test_size)\n",
    "    \n",
    "    return x_train, x_test, y_train, y_test\n",
    "\n",
    "if __name__ == \"__main__\":\n",
    "    x_train, x_test, y_train, y_test = generate_dataset(.2)\n",
    "    \n",
    "    #build model: overfit first for 2019 data and then try to generalize???\n",
    "    model = tf.keras.Sequential()\n",
    "    model.add(tf.keras.layers.Dense(5, activation=\"relu\", input_shape = (5,)))\n",
    "    model.add(tf.keras.layers.Dense(100, activation=\"relu\"))\n",
    "    #353 is the size of the output\n",
    "    model.add(tf.keras.layers.Dense(353, activation='softmax'))\n",
    "    \n",
    "    #compile model\n",
    "    Optimizer = tf.keras.optimizers.Adam()\n",
    "    model.compile(optimizer=Optimizer, loss=\"MSE\")\n",
    "    \n",
    "    #train\n",
    "    model.fit(x_train, y_train, epochs=500, batch_size = 200)\n",
    "    \n",
    "    #evaluate\n",
    "    model.evaluate(x_test,y_test,verbose=1)\n",
    "    "
   ]
  },
  {
   "cell_type": "code",
   "execution_count": 29,
   "metadata": {},
   "outputs": [],
   "source": [
    "data = np.array([[9]])\n",
    "prediction = model.predict(data)"
   ]
  },
  {
   "cell_type": "code",
   "execution_count": 30,
   "metadata": {},
   "outputs": [
    {
     "name": "stdout",
     "output_type": "stream",
     "text": [
      "[[80.6857]]\n"
     ]
    }
   ],
   "source": [
    "print(prediction)"
   ]
  },
  {
   "cell_type": "code",
   "execution_count": null,
   "metadata": {},
   "outputs": [],
   "source": []
  }
 ],
 "metadata": {
  "kernelspec": {
   "display_name": "Python 3",
   "language": "python",
   "name": "python3"
  },
  "language_info": {
   "codemirror_mode": {
    "name": "ipython",
    "version": 3
   },
   "file_extension": ".py",
   "mimetype": "text/x-python",
   "name": "python",
   "nbconvert_exporter": "python",
   "pygments_lexer": "ipython3",
   "version": "3.7.7"
  }
 },
 "nbformat": 4,
 "nbformat_minor": 4
}
